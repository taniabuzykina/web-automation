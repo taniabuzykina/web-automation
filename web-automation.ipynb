{
 "cells": [
  {
   "cell_type": "markdown",
   "metadata": {},
   "source": [
    "The idea for this project:\n",
    "\n",
    "1. Go to Github and use selenium to apply filters and find jobs overall and in the UK\n",
    "2. Use BeautifulSoup to web scrape the results \n",
    "3. Do some basic pandas plots? \n",
    "   1. Number of jobs per location\n",
    "   2. Smth else based on what data we have\n",
    "4. Use pywin32/xlwings to open the data in Excel and build the same graph. "
   ]
  },
  {
   "cell_type": "code",
   "execution_count": null,
   "metadata": {},
   "outputs": [],
   "source": []
  }
 ],
 "metadata": {
  "language_info": {
   "name": "python"
  }
 },
 "nbformat": 4,
 "nbformat_minor": 2
}
